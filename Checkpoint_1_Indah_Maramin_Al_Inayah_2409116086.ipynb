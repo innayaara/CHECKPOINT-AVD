{
  "nbformat": 4,
  "nbformat_minor": 0,
  "metadata": {
    "colab": {
      "provenance": [],
      "mount_file_id": "1mgeycZAWOz8y5duQhE2awSqx7Xbeqql5",
      "authorship_tag": "ABX9TyNGC9ZrrCKjhcjgIhSC9xEl",
      "include_colab_link": true
    },
    "kernelspec": {
      "name": "python3",
      "display_name": "Python 3"
    },
    "language_info": {
      "name": "python"
    }
  },
  "cells": [
    {
      "cell_type": "markdown",
      "metadata": {
        "id": "view-in-github",
        "colab_type": "text"
      },
      "source": [
        "<a href=\"https://colab.research.google.com/github/innayaara/Checkpoint-1/blob/main/Checkpoint_1_Indah_Maramin_Al_Inayah_2409116086.ipynb\" target=\"_parent\"><img src=\"https://colab.research.google.com/assets/colab-badge.svg\" alt=\"Open In Colab\"/></a>"
      ]
    },
    {
      "cell_type": "markdown",
      "source": [
        "**Nama: Indah Maramin Al Inayah**\n",
        "\n",
        "**Nim: 2409116086**"
      ],
      "metadata": {
        "id": "3mYisQZmCAMr"
      }
    },
    {
      "cell_type": "markdown",
      "source": [
        "# **Studi Kasus: Analisis Variasi Shade dan Brand pada Produk Makeup**"
      ],
      "metadata": {
        "id": "ceemhWMWnB7w"
      }
    },
    {
      "cell_type": "markdown",
      "source": [
        "## **Latar Belakang**"
      ],
      "metadata": {
        "id": "ZWsmW7DCu8B0"
      }
    },
    {
      "cell_type": "markdown",
      "source": [
        "Industri kosmetik merupakan salah satu sektor yang terus berkembang seiring dengan meningkatnya kesadaran masyarakat terhadap perawatan diri dan penampilan. Salah satu aspek penting dalam produk kosmetik adalah variasi shade makeup yang ditawarkan, terutama pada produk seperti foundation, lipstik, dan bedak. Variasi shade yang beragam memungkinkan konsumen memilih produk sesuai dengan warna kulit dan preferensi pribadi. Analisis data terhadap shade makeup dapat membantu perusahaan kosmetik memahami tren pasar dan kebutuhan konsumen, sehingga dapat memberikan penawaran produk yang lebih sesuai."
      ],
      "metadata": {
        "id": "ggRIbnBUvCUJ"
      }
    },
    {
      "cell_type": "markdown",
      "source": [
        "## **Tujuan Studi Kasus**"
      ],
      "metadata": {
        "id": "JAyR4vVNvL-N"
      }
    },
    {
      "cell_type": "markdown",
      "source": [
        "Tujuan dari studi kasus ini adalah untuk menganalisis variasi shade makeup yang ditawarkan oleh berbagai merek kosmetik. Analisis ini bertujuan untuk:\n",
        "1. Mengetahui tren shade makeup yang paling populer.\n",
        "2. Menganalisis hubungan antara jumlah shade yang ditawarkan dan harga produk.\n",
        "3. Mengidentifikasi merek kosmetik dengan variasi shade terbanyak."
      ],
      "metadata": {
        "id": "pRKuSiuOvXO3"
      }
    },
    {
      "cell_type": "markdown",
      "source": [
        "## **Business Understanding**"
      ],
      "metadata": {
        "id": "qfib2QOT8LgT"
      }
    },
    {
      "cell_type": "markdown",
      "source": [
        "### **Business Objective**\n"
      ],
      "metadata": {
        "id": "BdZWwRZO8kwD"
      }
    },
    {
      "cell_type": "markdown",
      "source": [
        "Tujuan utama dari analisis data adalah untuk memahami distribusi dan variasi shade makeup yang tersedia di berbagai merek kosmetik. Analisis ini diharapkan dapat membantu perusahaan kosmetik dalam mengetahui tren shade makeup yang paling populer dan variasi produk yang banyak diminati oleh konsumen. Selain itu, proyek ini juga bertujuan untuk memberikan wawasan terkait hubungan antara harga produk dengan jumlah shade yang ditawarkan oleh berbagai merek."
      ],
      "metadata": {
        "id": "tyo_jjyGD8P8"
      }
    },
    {
      "cell_type": "markdown",
      "source": [
        "### **Assess Situation**"
      ],
      "metadata": {
        "id": "L_0JXP9uLQlx"
      }
    },
    {
      "cell_type": "markdown",
      "source": [
        "Situasi saat ini menunjukkan bahwa dataset yang digunakan berisi informasi tentang produk makeup seperti merek, kategori, shade, dan harga. Tantangan yang mungkin dihadapi adalah adanya data yang tidak lengkap atau duplikasi yang perlu dibersihkan sebelum analisis dilakukan. Selain itu, perlu dilakukan pemrosesan data lebih lanjut agar data siap digunakan dalam proses analisis."
      ],
      "metadata": {
        "id": "AnNr9jH0Le89"
      }
    },
    {
      "cell_type": "markdown",
      "source": [
        "### **Data Mining Goals**"
      ],
      "metadata": {
        "id": "CmLZPf6AOh4m"
      }
    },
    {
      "cell_type": "markdown",
      "source": [
        "Data mining dalam proyek ini adalah untuk mengetahui merek kosmetik dengan variasi shade terbanyak, menganalisis distribusi harga produk di berbagai kategori, serta menemukan pola atau tren yang dapat membantu memahami preferensi konsumen terhadap shade makeup tertentu."
      ],
      "metadata": {
        "id": "vnbBYYhNOluD"
      }
    },
    {
      "cell_type": "markdown",
      "source": [
        "### **Project Plan**"
      ],
      "metadata": {
        "id": "jMM2pacJ_OVN"
      }
    },
    {
      "cell_type": "markdown",
      "source": [
        "Rencana proyek ini dimulai dengan pembersihan data untuk memastikan kualitas data yang baik. Selanjutnya, dilakukan eksplorasi data dengan statistik deskriptif dan visualisasi untuk memahami distribusi data. Setelah itu, analisis lebih dalam dilakukan untuk mencapai tujuan yang telah ditetapkan. Hasil dari proyek ini akan didokumentasikan secara sistematis menggunakan Google Colaboratory dengan markdown untuk menjelaskan proses dan hasil analisis.\n",
        "\n"
      ],
      "metadata": {
        "id": "LPbNSGeZQMYK"
      }
    },
    {
      "cell_type": "markdown",
      "source": [
        "## **Tampilan data secara keseluruhan**"
      ],
      "metadata": {
        "id": "CHNih2R6S-BH"
      }
    },
    {
      "cell_type": "code",
      "execution_count": 20,
      "metadata": {
        "id": "FujXBOEeqdY9"
      },
      "outputs": [],
      "source": [
        "import pandas as pd"
      ]
    },
    {
      "cell_type": "code",
      "source": [
        "df = pd.read_csv(\"/content/drive/MyDrive/Pandas/shades.csv\")\n",
        "print(df)"
      ],
      "metadata": {
        "colab": {
          "base_uri": "https://localhost:8080/"
        },
        "id": "LtKqzpcJqjuY",
        "outputId": "5f115d6b-a759-4b1d-e520-f5b8d475cd11"
      },
      "execution_count": 3,
      "outputs": [
        {
          "output_type": "stream",
          "name": "stdout",
          "text": [
            "          brand brand_short     product product_short     hex     H     S  \\\n",
            "0    Maybelline          mb      Fit Me           fmf  f3cfb3  26.0  0.26   \n",
            "1    Maybelline          mb      Fit Me           fmf  ffe3c2  32.0  0.24   \n",
            "2    Maybelline          mb      Fit Me           fmf  ffe0cd  23.0  0.20   \n",
            "3    Maybelline          mb      Fit Me           fmf  ffd3be  19.0  0.25   \n",
            "4    Maybelline          mb      Fit Me           fmf  bd9584  18.0  0.30   \n",
            "..          ...         ...         ...           ...     ...   ...   ...   \n",
            "620     L'Oréal          lo  True Match           tms  eecfba  24.0  0.22   \n",
            "621     L'Oréal          lo  True Match           tms  e8c7b8  19.0  0.21   \n",
            "622     L'Oréal          lo  True Match           tms  f0cbb9  20.0  0.23   \n",
            "623     L'Oréal          lo  True Match           tms  e9c4b1  20.0  0.24   \n",
            "624     L'Oréal          lo  True Match           tms  eabea1  24.0  0.31   \n",
            "\n",
            "        V   L  group  \n",
            "0    0.95  86      2  \n",
            "1    1.00  92      2  \n",
            "2    1.00  91      2  \n",
            "3    1.00  88      2  \n",
            "4    0.74  65      2  \n",
            "..    ...  ..    ...  \n",
            "620  0.93  85      7  \n",
            "621  0.91  83      7  \n",
            "622  0.94  85      7  \n",
            "623  0.91  82      7  \n",
            "624  0.92  80      7  \n",
            "\n",
            "[625 rows x 10 columns]\n"
          ]
        }
      ]
    },
    {
      "cell_type": "markdown",
      "source": [
        "### **Info data**"
      ],
      "metadata": {
        "id": "Tog24UiOW9ET"
      }
    },
    {
      "cell_type": "code",
      "source": [
        "df.info()"
      ],
      "metadata": {
        "colab": {
          "base_uri": "https://localhost:8080/"
        },
        "id": "rX0OMXLZrs0B",
        "outputId": "de6dd7b8-05a3-4ee1-eb8d-92d64576416d"
      },
      "execution_count": null,
      "outputs": [
        {
          "output_type": "stream",
          "name": "stdout",
          "text": [
            "<class 'pandas.core.frame.DataFrame'>\n",
            "RangeIndex: 625 entries, 0 to 624\n",
            "Data columns (total 10 columns):\n",
            " #   Column         Non-Null Count  Dtype  \n",
            "---  ------         --------------  -----  \n",
            " 0   brand          625 non-null    object \n",
            " 1   brand_short    625 non-null    object \n",
            " 2   product        625 non-null    object \n",
            " 3   product_short  625 non-null    object \n",
            " 4   hex            625 non-null    object \n",
            " 5   H              613 non-null    float64\n",
            " 6   S              613 non-null    float64\n",
            " 7   V              613 non-null    float64\n",
            " 8   L              625 non-null    int64  \n",
            " 9   group          625 non-null    int64  \n",
            "dtypes: float64(3), int64(2), object(5)\n",
            "memory usage: 49.0+ KB\n"
          ]
        }
      ]
    },
    {
      "cell_type": "markdown",
      "source": [
        "### **Tampilan 5 Baris Pertama**"
      ],
      "metadata": {
        "id": "AtLJviCRVazV"
      }
    },
    {
      "cell_type": "code",
      "source": [
        "df.head()"
      ],
      "metadata": {
        "colab": {
          "base_uri": "https://localhost:8080/",
          "height": 206
        },
        "id": "RMetk_6HurL4",
        "outputId": "926a00c2-8e69-4c56-d1b7-64412c9e5622"
      },
      "execution_count": null,
      "outputs": [
        {
          "output_type": "execute_result",
          "data": {
            "text/plain": [
              "        brand brand_short product product_short     hex     H     S     V   L  \\\n",
              "0  Maybelline          mb  Fit Me           fmf  f3cfb3  26.0  0.26  0.95  86   \n",
              "1  Maybelline          mb  Fit Me           fmf  ffe3c2  32.0  0.24  1.00  92   \n",
              "2  Maybelline          mb  Fit Me           fmf  ffe0cd  23.0  0.20  1.00  91   \n",
              "3  Maybelline          mb  Fit Me           fmf  ffd3be  19.0  0.25  1.00  88   \n",
              "4  Maybelline          mb  Fit Me           fmf  bd9584  18.0  0.30  0.74  65   \n",
              "\n",
              "   group  \n",
              "0      2  \n",
              "1      2  \n",
              "2      2  \n",
              "3      2  \n",
              "4      2  "
            ],
            "text/html": [
              "\n",
              "  <div id=\"df-3ff19701-7949-4a4b-9b5d-53380d40ea55\" class=\"colab-df-container\">\n",
              "    <div>\n",
              "<style scoped>\n",
              "    .dataframe tbody tr th:only-of-type {\n",
              "        vertical-align: middle;\n",
              "    }\n",
              "\n",
              "    .dataframe tbody tr th {\n",
              "        vertical-align: top;\n",
              "    }\n",
              "\n",
              "    .dataframe thead th {\n",
              "        text-align: right;\n",
              "    }\n",
              "</style>\n",
              "<table border=\"1\" class=\"dataframe\">\n",
              "  <thead>\n",
              "    <tr style=\"text-align: right;\">\n",
              "      <th></th>\n",
              "      <th>brand</th>\n",
              "      <th>brand_short</th>\n",
              "      <th>product</th>\n",
              "      <th>product_short</th>\n",
              "      <th>hex</th>\n",
              "      <th>H</th>\n",
              "      <th>S</th>\n",
              "      <th>V</th>\n",
              "      <th>L</th>\n",
              "      <th>group</th>\n",
              "    </tr>\n",
              "  </thead>\n",
              "  <tbody>\n",
              "    <tr>\n",
              "      <th>0</th>\n",
              "      <td>Maybelline</td>\n",
              "      <td>mb</td>\n",
              "      <td>Fit Me</td>\n",
              "      <td>fmf</td>\n",
              "      <td>f3cfb3</td>\n",
              "      <td>26.0</td>\n",
              "      <td>0.26</td>\n",
              "      <td>0.95</td>\n",
              "      <td>86</td>\n",
              "      <td>2</td>\n",
              "    </tr>\n",
              "    <tr>\n",
              "      <th>1</th>\n",
              "      <td>Maybelline</td>\n",
              "      <td>mb</td>\n",
              "      <td>Fit Me</td>\n",
              "      <td>fmf</td>\n",
              "      <td>ffe3c2</td>\n",
              "      <td>32.0</td>\n",
              "      <td>0.24</td>\n",
              "      <td>1.00</td>\n",
              "      <td>92</td>\n",
              "      <td>2</td>\n",
              "    </tr>\n",
              "    <tr>\n",
              "      <th>2</th>\n",
              "      <td>Maybelline</td>\n",
              "      <td>mb</td>\n",
              "      <td>Fit Me</td>\n",
              "      <td>fmf</td>\n",
              "      <td>ffe0cd</td>\n",
              "      <td>23.0</td>\n",
              "      <td>0.20</td>\n",
              "      <td>1.00</td>\n",
              "      <td>91</td>\n",
              "      <td>2</td>\n",
              "    </tr>\n",
              "    <tr>\n",
              "      <th>3</th>\n",
              "      <td>Maybelline</td>\n",
              "      <td>mb</td>\n",
              "      <td>Fit Me</td>\n",
              "      <td>fmf</td>\n",
              "      <td>ffd3be</td>\n",
              "      <td>19.0</td>\n",
              "      <td>0.25</td>\n",
              "      <td>1.00</td>\n",
              "      <td>88</td>\n",
              "      <td>2</td>\n",
              "    </tr>\n",
              "    <tr>\n",
              "      <th>4</th>\n",
              "      <td>Maybelline</td>\n",
              "      <td>mb</td>\n",
              "      <td>Fit Me</td>\n",
              "      <td>fmf</td>\n",
              "      <td>bd9584</td>\n",
              "      <td>18.0</td>\n",
              "      <td>0.30</td>\n",
              "      <td>0.74</td>\n",
              "      <td>65</td>\n",
              "      <td>2</td>\n",
              "    </tr>\n",
              "  </tbody>\n",
              "</table>\n",
              "</div>\n",
              "    <div class=\"colab-df-buttons\">\n",
              "\n",
              "  <div class=\"colab-df-container\">\n",
              "    <button class=\"colab-df-convert\" onclick=\"convertToInteractive('df-3ff19701-7949-4a4b-9b5d-53380d40ea55')\"\n",
              "            title=\"Convert this dataframe to an interactive table.\"\n",
              "            style=\"display:none;\">\n",
              "\n",
              "  <svg xmlns=\"http://www.w3.org/2000/svg\" height=\"24px\" viewBox=\"0 -960 960 960\">\n",
              "    <path d=\"M120-120v-720h720v720H120Zm60-500h600v-160H180v160Zm220 220h160v-160H400v160Zm0 220h160v-160H400v160ZM180-400h160v-160H180v160Zm440 0h160v-160H620v160ZM180-180h160v-160H180v160Zm440 0h160v-160H620v160Z\"/>\n",
              "  </svg>\n",
              "    </button>\n",
              "\n",
              "  <style>\n",
              "    .colab-df-container {\n",
              "      display:flex;\n",
              "      gap: 12px;\n",
              "    }\n",
              "\n",
              "    .colab-df-convert {\n",
              "      background-color: #E8F0FE;\n",
              "      border: none;\n",
              "      border-radius: 50%;\n",
              "      cursor: pointer;\n",
              "      display: none;\n",
              "      fill: #1967D2;\n",
              "      height: 32px;\n",
              "      padding: 0 0 0 0;\n",
              "      width: 32px;\n",
              "    }\n",
              "\n",
              "    .colab-df-convert:hover {\n",
              "      background-color: #E2EBFA;\n",
              "      box-shadow: 0px 1px 2px rgba(60, 64, 67, 0.3), 0px 1px 3px 1px rgba(60, 64, 67, 0.15);\n",
              "      fill: #174EA6;\n",
              "    }\n",
              "\n",
              "    .colab-df-buttons div {\n",
              "      margin-bottom: 4px;\n",
              "    }\n",
              "\n",
              "    [theme=dark] .colab-df-convert {\n",
              "      background-color: #3B4455;\n",
              "      fill: #D2E3FC;\n",
              "    }\n",
              "\n",
              "    [theme=dark] .colab-df-convert:hover {\n",
              "      background-color: #434B5C;\n",
              "      box-shadow: 0px 1px 3px 1px rgba(0, 0, 0, 0.15);\n",
              "      filter: drop-shadow(0px 1px 2px rgba(0, 0, 0, 0.3));\n",
              "      fill: #FFFFFF;\n",
              "    }\n",
              "  </style>\n",
              "\n",
              "    <script>\n",
              "      const buttonEl =\n",
              "        document.querySelector('#df-3ff19701-7949-4a4b-9b5d-53380d40ea55 button.colab-df-convert');\n",
              "      buttonEl.style.display =\n",
              "        google.colab.kernel.accessAllowed ? 'block' : 'none';\n",
              "\n",
              "      async function convertToInteractive(key) {\n",
              "        const element = document.querySelector('#df-3ff19701-7949-4a4b-9b5d-53380d40ea55');\n",
              "        const dataTable =\n",
              "          await google.colab.kernel.invokeFunction('convertToInteractive',\n",
              "                                                    [key], {});\n",
              "        if (!dataTable) return;\n",
              "\n",
              "        const docLinkHtml = 'Like what you see? Visit the ' +\n",
              "          '<a target=\"_blank\" href=https://colab.research.google.com/notebooks/data_table.ipynb>data table notebook</a>'\n",
              "          + ' to learn more about interactive tables.';\n",
              "        element.innerHTML = '';\n",
              "        dataTable['output_type'] = 'display_data';\n",
              "        await google.colab.output.renderOutput(dataTable, element);\n",
              "        const docLink = document.createElement('div');\n",
              "        docLink.innerHTML = docLinkHtml;\n",
              "        element.appendChild(docLink);\n",
              "      }\n",
              "    </script>\n",
              "  </div>\n",
              "\n",
              "\n",
              "<div id=\"df-1a8affa4-56ab-4123-bc21-ebb426107866\">\n",
              "  <button class=\"colab-df-quickchart\" onclick=\"quickchart('df-1a8affa4-56ab-4123-bc21-ebb426107866')\"\n",
              "            title=\"Suggest charts\"\n",
              "            style=\"display:none;\">\n",
              "\n",
              "<svg xmlns=\"http://www.w3.org/2000/svg\" height=\"24px\"viewBox=\"0 0 24 24\"\n",
              "     width=\"24px\">\n",
              "    <g>\n",
              "        <path d=\"M19 3H5c-1.1 0-2 .9-2 2v14c0 1.1.9 2 2 2h14c1.1 0 2-.9 2-2V5c0-1.1-.9-2-2-2zM9 17H7v-7h2v7zm4 0h-2V7h2v10zm4 0h-2v-4h2v4z\"/>\n",
              "    </g>\n",
              "</svg>\n",
              "  </button>\n",
              "\n",
              "<style>\n",
              "  .colab-df-quickchart {\n",
              "      --bg-color: #E8F0FE;\n",
              "      --fill-color: #1967D2;\n",
              "      --hover-bg-color: #E2EBFA;\n",
              "      --hover-fill-color: #174EA6;\n",
              "      --disabled-fill-color: #AAA;\n",
              "      --disabled-bg-color: #DDD;\n",
              "  }\n",
              "\n",
              "  [theme=dark] .colab-df-quickchart {\n",
              "      --bg-color: #3B4455;\n",
              "      --fill-color: #D2E3FC;\n",
              "      --hover-bg-color: #434B5C;\n",
              "      --hover-fill-color: #FFFFFF;\n",
              "      --disabled-bg-color: #3B4455;\n",
              "      --disabled-fill-color: #666;\n",
              "  }\n",
              "\n",
              "  .colab-df-quickchart {\n",
              "    background-color: var(--bg-color);\n",
              "    border: none;\n",
              "    border-radius: 50%;\n",
              "    cursor: pointer;\n",
              "    display: none;\n",
              "    fill: var(--fill-color);\n",
              "    height: 32px;\n",
              "    padding: 0;\n",
              "    width: 32px;\n",
              "  }\n",
              "\n",
              "  .colab-df-quickchart:hover {\n",
              "    background-color: var(--hover-bg-color);\n",
              "    box-shadow: 0 1px 2px rgba(60, 64, 67, 0.3), 0 1px 3px 1px rgba(60, 64, 67, 0.15);\n",
              "    fill: var(--button-hover-fill-color);\n",
              "  }\n",
              "\n",
              "  .colab-df-quickchart-complete:disabled,\n",
              "  .colab-df-quickchart-complete:disabled:hover {\n",
              "    background-color: var(--disabled-bg-color);\n",
              "    fill: var(--disabled-fill-color);\n",
              "    box-shadow: none;\n",
              "  }\n",
              "\n",
              "  .colab-df-spinner {\n",
              "    border: 2px solid var(--fill-color);\n",
              "    border-color: transparent;\n",
              "    border-bottom-color: var(--fill-color);\n",
              "    animation:\n",
              "      spin 1s steps(1) infinite;\n",
              "  }\n",
              "\n",
              "  @keyframes spin {\n",
              "    0% {\n",
              "      border-color: transparent;\n",
              "      border-bottom-color: var(--fill-color);\n",
              "      border-left-color: var(--fill-color);\n",
              "    }\n",
              "    20% {\n",
              "      border-color: transparent;\n",
              "      border-left-color: var(--fill-color);\n",
              "      border-top-color: var(--fill-color);\n",
              "    }\n",
              "    30% {\n",
              "      border-color: transparent;\n",
              "      border-left-color: var(--fill-color);\n",
              "      border-top-color: var(--fill-color);\n",
              "      border-right-color: var(--fill-color);\n",
              "    }\n",
              "    40% {\n",
              "      border-color: transparent;\n",
              "      border-right-color: var(--fill-color);\n",
              "      border-top-color: var(--fill-color);\n",
              "    }\n",
              "    60% {\n",
              "      border-color: transparent;\n",
              "      border-right-color: var(--fill-color);\n",
              "    }\n",
              "    80% {\n",
              "      border-color: transparent;\n",
              "      border-right-color: var(--fill-color);\n",
              "      border-bottom-color: var(--fill-color);\n",
              "    }\n",
              "    90% {\n",
              "      border-color: transparent;\n",
              "      border-bottom-color: var(--fill-color);\n",
              "    }\n",
              "  }\n",
              "</style>\n",
              "\n",
              "  <script>\n",
              "    async function quickchart(key) {\n",
              "      const quickchartButtonEl =\n",
              "        document.querySelector('#' + key + ' button');\n",
              "      quickchartButtonEl.disabled = true;  // To prevent multiple clicks.\n",
              "      quickchartButtonEl.classList.add('colab-df-spinner');\n",
              "      try {\n",
              "        const charts = await google.colab.kernel.invokeFunction(\n",
              "            'suggestCharts', [key], {});\n",
              "      } catch (error) {\n",
              "        console.error('Error during call to suggestCharts:', error);\n",
              "      }\n",
              "      quickchartButtonEl.classList.remove('colab-df-spinner');\n",
              "      quickchartButtonEl.classList.add('colab-df-quickchart-complete');\n",
              "    }\n",
              "    (() => {\n",
              "      let quickchartButtonEl =\n",
              "        document.querySelector('#df-1a8affa4-56ab-4123-bc21-ebb426107866 button');\n",
              "      quickchartButtonEl.style.display =\n",
              "        google.colab.kernel.accessAllowed ? 'block' : 'none';\n",
              "    })();\n",
              "  </script>\n",
              "</div>\n",
              "\n",
              "    </div>\n",
              "  </div>\n"
            ],
            "application/vnd.google.colaboratory.intrinsic+json": {
              "type": "dataframe",
              "variable_name": "df",
              "summary": "{\n  \"name\": \"df\",\n  \"rows\": 625,\n  \"fields\": [\n    {\n      \"column\": \"brand\",\n      \"properties\": {\n        \"dtype\": \"category\",\n        \"num_unique_values\": 36,\n        \"samples\": [\n          \"Nykaa\",\n          \"MAC\",\n          \"IPSA\"\n        ],\n        \"semantic_type\": \"\",\n        \"description\": \"\"\n      }\n    },\n    {\n      \"column\": \"brand_short\",\n      \"properties\": {\n        \"dtype\": \"category\",\n        \"num_unique_values\": 36,\n        \"samples\": [\n          \"ny\",\n          \"ma\",\n          \"ip\"\n        ],\n        \"semantic_type\": \"\",\n        \"description\": \"\"\n      }\n    },\n    {\n      \"column\": \"product\",\n      \"properties\": {\n        \"dtype\": \"category\",\n        \"num_unique_values\": 38,\n        \"samples\": [\n          \"X Factor\",\n          \"Fit Me Matte\",\n          \"Infalliable\"\n        ],\n        \"semantic_type\": \"\",\n        \"description\": \"\"\n      }\n    },\n    {\n      \"column\": \"product_short\",\n      \"properties\": {\n        \"dtype\": \"category\",\n        \"num_unique_values\": 37,\n        \"samples\": [\n          \"off\",\n          \"sff\",\n          \"ipm\"\n        ],\n        \"semantic_type\": \"\",\n        \"description\": \"\"\n      }\n    },\n    {\n      \"column\": \"hex\",\n      \"properties\": {\n        \"dtype\": \"string\",\n        \"num_unique_values\": 617,\n        \"samples\": [\n          \"d8b08c\",\n          \"eec1a2\",\n          \"f2bf91\"\n        ],\n        \"semantic_type\": \"\",\n        \"description\": \"\"\n      }\n    },\n    {\n      \"column\": \"H\",\n      \"properties\": {\n        \"dtype\": \"number\",\n        \"std\": 5.327851795550922,\n        \"min\": 4.0,\n        \"max\": 45.0,\n        \"num_unique_values\": 35,\n        \"samples\": [\n          16.0,\n          25.0,\n          41.0\n        ],\n        \"semantic_type\": \"\",\n        \"description\": \"\"\n      }\n    },\n    {\n      \"column\": \"S\",\n      \"properties\": {\n        \"dtype\": \"number\",\n        \"std\": 0.1540888422011026,\n        \"min\": 0.1,\n        \"max\": 1.0,\n        \"num_unique_values\": 74,\n        \"samples\": [\n          0.3,\n          0.74,\n          0.64\n        ],\n        \"semantic_type\": \"\",\n        \"description\": \"\"\n      }\n    },\n    {\n      \"column\": \"V\",\n      \"properties\": {\n        \"dtype\": \"number\",\n        \"std\": 0.17395473128549513,\n        \"min\": 0.2,\n        \"max\": 1.0,\n        \"num_unique_values\": 74,\n        \"samples\": [\n          0.98,\n          0.33,\n          0.88\n        ],\n        \"semantic_type\": \"\",\n        \"description\": \"\"\n      }\n    },\n    {\n      \"column\": \"L\",\n      \"properties\": {\n        \"dtype\": \"number\",\n        \"std\": 17,\n        \"min\": 11,\n        \"max\": 95,\n        \"num_unique_values\": 78,\n        \"samples\": [\n          75,\n          86,\n          71\n        ],\n        \"semantic_type\": \"\",\n        \"description\": \"\"\n      }\n    },\n    {\n      \"column\": \"group\",\n      \"properties\": {\n        \"dtype\": \"number\",\n        \"std\": 1,\n        \"min\": 0,\n        \"max\": 7,\n        \"num_unique_values\": 8,\n        \"samples\": [\n          0,\n          5,\n          2\n        ],\n        \"semantic_type\": \"\",\n        \"description\": \"\"\n      }\n    }\n  ]\n}"
            }
          },
          "metadata": {},
          "execution_count": 28
        }
      ]
    },
    {
      "cell_type": "markdown",
      "source": [
        "### **Tampilan 5 Baris Akhir**"
      ],
      "metadata": {
        "id": "EP-90c-yYasr"
      }
    },
    {
      "cell_type": "code",
      "source": [
        "df.tail()"
      ],
      "metadata": {
        "colab": {
          "base_uri": "https://localhost:8080/",
          "height": 206
        },
        "id": "0DGdsDVpfXgM",
        "outputId": "f37360ba-1996-4640-b473-39d8caa82440"
      },
      "execution_count": null,
      "outputs": [
        {
          "output_type": "execute_result",
          "data": {
            "text/plain": [
              "       brand brand_short     product product_short     hex     H     S     V  \\\n",
              "620  L'Oréal          lo  True Match           tms  eecfba  24.0  0.22  0.93   \n",
              "621  L'Oréal          lo  True Match           tms  e8c7b8  19.0  0.21  0.91   \n",
              "622  L'Oréal          lo  True Match           tms  f0cbb9  20.0  0.23  0.94   \n",
              "623  L'Oréal          lo  True Match           tms  e9c4b1  20.0  0.24  0.91   \n",
              "624  L'Oréal          lo  True Match           tms  eabea1  24.0  0.31  0.92   \n",
              "\n",
              "      L  group  \n",
              "620  85      7  \n",
              "621  83      7  \n",
              "622  85      7  \n",
              "623  82      7  \n",
              "624  80      7  "
            ],
            "text/html": [
              "\n",
              "  <div id=\"df-2a4ebb18-859d-456a-afa7-c94088807928\" class=\"colab-df-container\">\n",
              "    <div>\n",
              "<style scoped>\n",
              "    .dataframe tbody tr th:only-of-type {\n",
              "        vertical-align: middle;\n",
              "    }\n",
              "\n",
              "    .dataframe tbody tr th {\n",
              "        vertical-align: top;\n",
              "    }\n",
              "\n",
              "    .dataframe thead th {\n",
              "        text-align: right;\n",
              "    }\n",
              "</style>\n",
              "<table border=\"1\" class=\"dataframe\">\n",
              "  <thead>\n",
              "    <tr style=\"text-align: right;\">\n",
              "      <th></th>\n",
              "      <th>brand</th>\n",
              "      <th>brand_short</th>\n",
              "      <th>product</th>\n",
              "      <th>product_short</th>\n",
              "      <th>hex</th>\n",
              "      <th>H</th>\n",
              "      <th>S</th>\n",
              "      <th>V</th>\n",
              "      <th>L</th>\n",
              "      <th>group</th>\n",
              "    </tr>\n",
              "  </thead>\n",
              "  <tbody>\n",
              "    <tr>\n",
              "      <th>620</th>\n",
              "      <td>L'Oréal</td>\n",
              "      <td>lo</td>\n",
              "      <td>True Match</td>\n",
              "      <td>tms</td>\n",
              "      <td>eecfba</td>\n",
              "      <td>24.0</td>\n",
              "      <td>0.22</td>\n",
              "      <td>0.93</td>\n",
              "      <td>85</td>\n",
              "      <td>7</td>\n",
              "    </tr>\n",
              "    <tr>\n",
              "      <th>621</th>\n",
              "      <td>L'Oréal</td>\n",
              "      <td>lo</td>\n",
              "      <td>True Match</td>\n",
              "      <td>tms</td>\n",
              "      <td>e8c7b8</td>\n",
              "      <td>19.0</td>\n",
              "      <td>0.21</td>\n",
              "      <td>0.91</td>\n",
              "      <td>83</td>\n",
              "      <td>7</td>\n",
              "    </tr>\n",
              "    <tr>\n",
              "      <th>622</th>\n",
              "      <td>L'Oréal</td>\n",
              "      <td>lo</td>\n",
              "      <td>True Match</td>\n",
              "      <td>tms</td>\n",
              "      <td>f0cbb9</td>\n",
              "      <td>20.0</td>\n",
              "      <td>0.23</td>\n",
              "      <td>0.94</td>\n",
              "      <td>85</td>\n",
              "      <td>7</td>\n",
              "    </tr>\n",
              "    <tr>\n",
              "      <th>623</th>\n",
              "      <td>L'Oréal</td>\n",
              "      <td>lo</td>\n",
              "      <td>True Match</td>\n",
              "      <td>tms</td>\n",
              "      <td>e9c4b1</td>\n",
              "      <td>20.0</td>\n",
              "      <td>0.24</td>\n",
              "      <td>0.91</td>\n",
              "      <td>82</td>\n",
              "      <td>7</td>\n",
              "    </tr>\n",
              "    <tr>\n",
              "      <th>624</th>\n",
              "      <td>L'Oréal</td>\n",
              "      <td>lo</td>\n",
              "      <td>True Match</td>\n",
              "      <td>tms</td>\n",
              "      <td>eabea1</td>\n",
              "      <td>24.0</td>\n",
              "      <td>0.31</td>\n",
              "      <td>0.92</td>\n",
              "      <td>80</td>\n",
              "      <td>7</td>\n",
              "    </tr>\n",
              "  </tbody>\n",
              "</table>\n",
              "</div>\n",
              "    <div class=\"colab-df-buttons\">\n",
              "\n",
              "  <div class=\"colab-df-container\">\n",
              "    <button class=\"colab-df-convert\" onclick=\"convertToInteractive('df-2a4ebb18-859d-456a-afa7-c94088807928')\"\n",
              "            title=\"Convert this dataframe to an interactive table.\"\n",
              "            style=\"display:none;\">\n",
              "\n",
              "  <svg xmlns=\"http://www.w3.org/2000/svg\" height=\"24px\" viewBox=\"0 -960 960 960\">\n",
              "    <path d=\"M120-120v-720h720v720H120Zm60-500h600v-160H180v160Zm220 220h160v-160H400v160Zm0 220h160v-160H400v160ZM180-400h160v-160H180v160Zm440 0h160v-160H620v160ZM180-180h160v-160H180v160Zm440 0h160v-160H620v160Z\"/>\n",
              "  </svg>\n",
              "    </button>\n",
              "\n",
              "  <style>\n",
              "    .colab-df-container {\n",
              "      display:flex;\n",
              "      gap: 12px;\n",
              "    }\n",
              "\n",
              "    .colab-df-convert {\n",
              "      background-color: #E8F0FE;\n",
              "      border: none;\n",
              "      border-radius: 50%;\n",
              "      cursor: pointer;\n",
              "      display: none;\n",
              "      fill: #1967D2;\n",
              "      height: 32px;\n",
              "      padding: 0 0 0 0;\n",
              "      width: 32px;\n",
              "    }\n",
              "\n",
              "    .colab-df-convert:hover {\n",
              "      background-color: #E2EBFA;\n",
              "      box-shadow: 0px 1px 2px rgba(60, 64, 67, 0.3), 0px 1px 3px 1px rgba(60, 64, 67, 0.15);\n",
              "      fill: #174EA6;\n",
              "    }\n",
              "\n",
              "    .colab-df-buttons div {\n",
              "      margin-bottom: 4px;\n",
              "    }\n",
              "\n",
              "    [theme=dark] .colab-df-convert {\n",
              "      background-color: #3B4455;\n",
              "      fill: #D2E3FC;\n",
              "    }\n",
              "\n",
              "    [theme=dark] .colab-df-convert:hover {\n",
              "      background-color: #434B5C;\n",
              "      box-shadow: 0px 1px 3px 1px rgba(0, 0, 0, 0.15);\n",
              "      filter: drop-shadow(0px 1px 2px rgba(0, 0, 0, 0.3));\n",
              "      fill: #FFFFFF;\n",
              "    }\n",
              "  </style>\n",
              "\n",
              "    <script>\n",
              "      const buttonEl =\n",
              "        document.querySelector('#df-2a4ebb18-859d-456a-afa7-c94088807928 button.colab-df-convert');\n",
              "      buttonEl.style.display =\n",
              "        google.colab.kernel.accessAllowed ? 'block' : 'none';\n",
              "\n",
              "      async function convertToInteractive(key) {\n",
              "        const element = document.querySelector('#df-2a4ebb18-859d-456a-afa7-c94088807928');\n",
              "        const dataTable =\n",
              "          await google.colab.kernel.invokeFunction('convertToInteractive',\n",
              "                                                    [key], {});\n",
              "        if (!dataTable) return;\n",
              "\n",
              "        const docLinkHtml = 'Like what you see? Visit the ' +\n",
              "          '<a target=\"_blank\" href=https://colab.research.google.com/notebooks/data_table.ipynb>data table notebook</a>'\n",
              "          + ' to learn more about interactive tables.';\n",
              "        element.innerHTML = '';\n",
              "        dataTable['output_type'] = 'display_data';\n",
              "        await google.colab.output.renderOutput(dataTable, element);\n",
              "        const docLink = document.createElement('div');\n",
              "        docLink.innerHTML = docLinkHtml;\n",
              "        element.appendChild(docLink);\n",
              "      }\n",
              "    </script>\n",
              "  </div>\n",
              "\n",
              "\n",
              "<div id=\"df-5e6e220d-b43d-4ad6-b9bf-557e1d290048\">\n",
              "  <button class=\"colab-df-quickchart\" onclick=\"quickchart('df-5e6e220d-b43d-4ad6-b9bf-557e1d290048')\"\n",
              "            title=\"Suggest charts\"\n",
              "            style=\"display:none;\">\n",
              "\n",
              "<svg xmlns=\"http://www.w3.org/2000/svg\" height=\"24px\"viewBox=\"0 0 24 24\"\n",
              "     width=\"24px\">\n",
              "    <g>\n",
              "        <path d=\"M19 3H5c-1.1 0-2 .9-2 2v14c0 1.1.9 2 2 2h14c1.1 0 2-.9 2-2V5c0-1.1-.9-2-2-2zM9 17H7v-7h2v7zm4 0h-2V7h2v10zm4 0h-2v-4h2v4z\"/>\n",
              "    </g>\n",
              "</svg>\n",
              "  </button>\n",
              "\n",
              "<style>\n",
              "  .colab-df-quickchart {\n",
              "      --bg-color: #E8F0FE;\n",
              "      --fill-color: #1967D2;\n",
              "      --hover-bg-color: #E2EBFA;\n",
              "      --hover-fill-color: #174EA6;\n",
              "      --disabled-fill-color: #AAA;\n",
              "      --disabled-bg-color: #DDD;\n",
              "  }\n",
              "\n",
              "  [theme=dark] .colab-df-quickchart {\n",
              "      --bg-color: #3B4455;\n",
              "      --fill-color: #D2E3FC;\n",
              "      --hover-bg-color: #434B5C;\n",
              "      --hover-fill-color: #FFFFFF;\n",
              "      --disabled-bg-color: #3B4455;\n",
              "      --disabled-fill-color: #666;\n",
              "  }\n",
              "\n",
              "  .colab-df-quickchart {\n",
              "    background-color: var(--bg-color);\n",
              "    border: none;\n",
              "    border-radius: 50%;\n",
              "    cursor: pointer;\n",
              "    display: none;\n",
              "    fill: var(--fill-color);\n",
              "    height: 32px;\n",
              "    padding: 0;\n",
              "    width: 32px;\n",
              "  }\n",
              "\n",
              "  .colab-df-quickchart:hover {\n",
              "    background-color: var(--hover-bg-color);\n",
              "    box-shadow: 0 1px 2px rgba(60, 64, 67, 0.3), 0 1px 3px 1px rgba(60, 64, 67, 0.15);\n",
              "    fill: var(--button-hover-fill-color);\n",
              "  }\n",
              "\n",
              "  .colab-df-quickchart-complete:disabled,\n",
              "  .colab-df-quickchart-complete:disabled:hover {\n",
              "    background-color: var(--disabled-bg-color);\n",
              "    fill: var(--disabled-fill-color);\n",
              "    box-shadow: none;\n",
              "  }\n",
              "\n",
              "  .colab-df-spinner {\n",
              "    border: 2px solid var(--fill-color);\n",
              "    border-color: transparent;\n",
              "    border-bottom-color: var(--fill-color);\n",
              "    animation:\n",
              "      spin 1s steps(1) infinite;\n",
              "  }\n",
              "\n",
              "  @keyframes spin {\n",
              "    0% {\n",
              "      border-color: transparent;\n",
              "      border-bottom-color: var(--fill-color);\n",
              "      border-left-color: var(--fill-color);\n",
              "    }\n",
              "    20% {\n",
              "      border-color: transparent;\n",
              "      border-left-color: var(--fill-color);\n",
              "      border-top-color: var(--fill-color);\n",
              "    }\n",
              "    30% {\n",
              "      border-color: transparent;\n",
              "      border-left-color: var(--fill-color);\n",
              "      border-top-color: var(--fill-color);\n",
              "      border-right-color: var(--fill-color);\n",
              "    }\n",
              "    40% {\n",
              "      border-color: transparent;\n",
              "      border-right-color: var(--fill-color);\n",
              "      border-top-color: var(--fill-color);\n",
              "    }\n",
              "    60% {\n",
              "      border-color: transparent;\n",
              "      border-right-color: var(--fill-color);\n",
              "    }\n",
              "    80% {\n",
              "      border-color: transparent;\n",
              "      border-right-color: var(--fill-color);\n",
              "      border-bottom-color: var(--fill-color);\n",
              "    }\n",
              "    90% {\n",
              "      border-color: transparent;\n",
              "      border-bottom-color: var(--fill-color);\n",
              "    }\n",
              "  }\n",
              "</style>\n",
              "\n",
              "  <script>\n",
              "    async function quickchart(key) {\n",
              "      const quickchartButtonEl =\n",
              "        document.querySelector('#' + key + ' button');\n",
              "      quickchartButtonEl.disabled = true;  // To prevent multiple clicks.\n",
              "      quickchartButtonEl.classList.add('colab-df-spinner');\n",
              "      try {\n",
              "        const charts = await google.colab.kernel.invokeFunction(\n",
              "            'suggestCharts', [key], {});\n",
              "      } catch (error) {\n",
              "        console.error('Error during call to suggestCharts:', error);\n",
              "      }\n",
              "      quickchartButtonEl.classList.remove('colab-df-spinner');\n",
              "      quickchartButtonEl.classList.add('colab-df-quickchart-complete');\n",
              "    }\n",
              "    (() => {\n",
              "      let quickchartButtonEl =\n",
              "        document.querySelector('#df-5e6e220d-b43d-4ad6-b9bf-557e1d290048 button');\n",
              "      quickchartButtonEl.style.display =\n",
              "        google.colab.kernel.accessAllowed ? 'block' : 'none';\n",
              "    })();\n",
              "  </script>\n",
              "</div>\n",
              "\n",
              "    </div>\n",
              "  </div>\n"
            ],
            "application/vnd.google.colaboratory.intrinsic+json": {
              "type": "dataframe",
              "summary": "{\n  \"name\": \"df\",\n  \"rows\": 5,\n  \"fields\": [\n    {\n      \"column\": \"brand\",\n      \"properties\": {\n        \"dtype\": \"category\",\n        \"num_unique_values\": 1,\n        \"samples\": [\n          \"L'Or\\u00e9al\"\n        ],\n        \"semantic_type\": \"\",\n        \"description\": \"\"\n      }\n    },\n    {\n      \"column\": \"brand_short\",\n      \"properties\": {\n        \"dtype\": \"category\",\n        \"num_unique_values\": 1,\n        \"samples\": [\n          \"lo\"\n        ],\n        \"semantic_type\": \"\",\n        \"description\": \"\"\n      }\n    },\n    {\n      \"column\": \"product\",\n      \"properties\": {\n        \"dtype\": \"category\",\n        \"num_unique_values\": 1,\n        \"samples\": [\n          \"True Match\"\n        ],\n        \"semantic_type\": \"\",\n        \"description\": \"\"\n      }\n    },\n    {\n      \"column\": \"product_short\",\n      \"properties\": {\n        \"dtype\": \"category\",\n        \"num_unique_values\": 1,\n        \"samples\": [\n          \"tms\"\n        ],\n        \"semantic_type\": \"\",\n        \"description\": \"\"\n      }\n    },\n    {\n      \"column\": \"hex\",\n      \"properties\": {\n        \"dtype\": \"string\",\n        \"num_unique_values\": 5,\n        \"samples\": [\n          \"e8c7b8\"\n        ],\n        \"semantic_type\": \"\",\n        \"description\": \"\"\n      }\n    },\n    {\n      \"column\": \"H\",\n      \"properties\": {\n        \"dtype\": \"number\",\n        \"std\": 2.4083189157584592,\n        \"min\": 19.0,\n        \"max\": 24.0,\n        \"num_unique_values\": 3,\n        \"samples\": [\n          24.0\n        ],\n        \"semantic_type\": \"\",\n        \"description\": \"\"\n      }\n    },\n    {\n      \"column\": \"S\",\n      \"properties\": {\n        \"dtype\": \"number\",\n        \"std\": 0.0396232255123179,\n        \"min\": 0.21,\n        \"max\": 0.31,\n        \"num_unique_values\": 5,\n        \"samples\": [\n          0.21\n        ],\n        \"semantic_type\": \"\",\n        \"description\": \"\"\n      }\n    },\n    {\n      \"column\": \"V\",\n      \"properties\": {\n        \"dtype\": \"number\",\n        \"std\": 0.01303840481040527,\n        \"min\": 0.91,\n        \"max\": 0.94,\n        \"num_unique_values\": 4,\n        \"samples\": [\n          0.91\n        ],\n        \"semantic_type\": \"\",\n        \"description\": \"\"\n      }\n    },\n    {\n      \"column\": \"L\",\n      \"properties\": {\n        \"dtype\": \"number\",\n        \"std\": 2,\n        \"min\": 80,\n        \"max\": 85,\n        \"num_unique_values\": 4,\n        \"samples\": [\n          83\n        ],\n        \"semantic_type\": \"\",\n        \"description\": \"\"\n      }\n    },\n    {\n      \"column\": \"group\",\n      \"properties\": {\n        \"dtype\": \"number\",\n        \"std\": 0,\n        \"min\": 7,\n        \"max\": 7,\n        \"num_unique_values\": 1,\n        \"samples\": [\n          7\n        ],\n        \"semantic_type\": \"\",\n        \"description\": \"\"\n      }\n    }\n  ]\n}"
            }
          },
          "metadata": {},
          "execution_count": 29
        }
      ]
    },
    {
      "cell_type": "markdown",
      "source": [
        "### **Tampilan Tipe Data**"
      ],
      "metadata": {
        "id": "btaoeGX8bZxX"
      }
    },
    {
      "cell_type": "code",
      "source": [
        "df.dtypes"
      ],
      "metadata": {
        "colab": {
          "base_uri": "https://localhost:8080/",
          "height": 397
        },
        "id": "104fvOcFfbsx",
        "outputId": "76f7c401-66f2-4403-95c3-363fb681bf82"
      },
      "execution_count": null,
      "outputs": [
        {
          "output_type": "execute_result",
          "data": {
            "text/plain": [
              "brand             object\n",
              "brand_short       object\n",
              "product           object\n",
              "product_short     object\n",
              "hex               object\n",
              "H                float64\n",
              "S                float64\n",
              "V                float64\n",
              "L                  int64\n",
              "group              int64\n",
              "dtype: object"
            ],
            "text/html": [
              "<div>\n",
              "<style scoped>\n",
              "    .dataframe tbody tr th:only-of-type {\n",
              "        vertical-align: middle;\n",
              "    }\n",
              "\n",
              "    .dataframe tbody tr th {\n",
              "        vertical-align: top;\n",
              "    }\n",
              "\n",
              "    .dataframe thead th {\n",
              "        text-align: right;\n",
              "    }\n",
              "</style>\n",
              "<table border=\"1\" class=\"dataframe\">\n",
              "  <thead>\n",
              "    <tr style=\"text-align: right;\">\n",
              "      <th></th>\n",
              "      <th>0</th>\n",
              "    </tr>\n",
              "  </thead>\n",
              "  <tbody>\n",
              "    <tr>\n",
              "      <th>brand</th>\n",
              "      <td>object</td>\n",
              "    </tr>\n",
              "    <tr>\n",
              "      <th>brand_short</th>\n",
              "      <td>object</td>\n",
              "    </tr>\n",
              "    <tr>\n",
              "      <th>product</th>\n",
              "      <td>object</td>\n",
              "    </tr>\n",
              "    <tr>\n",
              "      <th>product_short</th>\n",
              "      <td>object</td>\n",
              "    </tr>\n",
              "    <tr>\n",
              "      <th>hex</th>\n",
              "      <td>object</td>\n",
              "    </tr>\n",
              "    <tr>\n",
              "      <th>H</th>\n",
              "      <td>float64</td>\n",
              "    </tr>\n",
              "    <tr>\n",
              "      <th>S</th>\n",
              "      <td>float64</td>\n",
              "    </tr>\n",
              "    <tr>\n",
              "      <th>V</th>\n",
              "      <td>float64</td>\n",
              "    </tr>\n",
              "    <tr>\n",
              "      <th>L</th>\n",
              "      <td>int64</td>\n",
              "    </tr>\n",
              "    <tr>\n",
              "      <th>group</th>\n",
              "      <td>int64</td>\n",
              "    </tr>\n",
              "  </tbody>\n",
              "</table>\n",
              "</div><br><label><b>dtype:</b> object</label>"
            ]
          },
          "metadata": {},
          "execution_count": 30
        }
      ]
    },
    {
      "cell_type": "markdown",
      "source": [
        "## **Pengecekan Struktur Data**"
      ],
      "metadata": {
        "id": "F2DkWdxSdwjE"
      }
    },
    {
      "cell_type": "markdown",
      "source": [
        "### **Menghitung jumlah kemunculan nilai unik dalam kolom 'brand'**"
      ],
      "metadata": {
        "id": "SKbhcBntd4ZE"
      }
    },
    {
      "cell_type": "code",
      "source": [
        "kolom_tertentu = \"brand\"\n",
        "if kolom_tertentu in df.columns:\n",
        "    print(f\"\\nMenghitung jumlah kemunculan nilai unik dalam kolom '{kolom_tertentu}' dengan df['{kolom_tertentu}'].value_counts():\")\n",
        "    print(df[kolom_tertentu].value_counts())\n",
        "else:\n",
        "    print(f\"\\nKolom '{kolom_tertentu}' tidak ditemukan dalam dataset.\")"
      ],
      "metadata": {
        "colab": {
          "base_uri": "https://localhost:8080/"
        },
        "id": "rhSBET36fp6Y",
        "outputId": "f2e221dc-9893-45b5-c23c-d55b0c01f99d"
      },
      "execution_count": 4,
      "outputs": [
        {
          "output_type": "stream",
          "name": "stdout",
          "text": [
            "\n",
            "Menghitung jumlah kemunculan nilai unik dalam kolom 'brand' dengan df['brand'].value_counts():\n",
            "brand\n",
            "Maybelline          54\n",
            "Estée Lauder        42\n",
            "MAC                 42\n",
            "Make Up For Ever    40\n",
            "Fenty               40\n",
            "Lancôme             40\n",
            "L'Oréal             36\n",
            "Beauty Bakerie      30\n",
            "Bobbi Brown         30\n",
            "bareMinerals        29\n",
            "Revlon              22\n",
            "Black Up            18\n",
            "Addiction           17\n",
            "Laws of Nature      17\n",
            "NARS                13\n",
            "Trim & Prissy       13\n",
            "Black Opal          12\n",
            "Covergirl + Olay    12\n",
            "House of Tara       11\n",
            "Elsas Pro           11\n",
            "Shu Uemera          11\n",
            "Hegai and Ester     10\n",
            "RMK                  9\n",
            "Iman                 8\n",
            "Bharat & Doris       7\n",
            "Dior                 6\n",
            "IPSA                 6\n",
            "Kate                 6\n",
            "Shiseido             6\n",
            "Kuddy                5\n",
            "Nykaa                5\n",
            "Lakmé                4\n",
            "Olivia               4\n",
            "Lotus Herbals        4\n",
            "Colorbar             3\n",
            "Blue Heaven          2\n",
            "Name: count, dtype: int64\n"
          ]
        }
      ]
    },
    {
      "cell_type": "markdown",
      "source": [
        "Beberapa brand makeup mendominasi dataset dengan frekuensi tinggi, sementara brand lainnya memiliki kemunculan lebih rendah. Hal ini menggambarkan popularitas brand tertentu dan keragaman produk dalam industri makeup."
      ],
      "metadata": {
        "id": "BzoborCr2d4V"
      }
    },
    {
      "cell_type": "markdown",
      "source": [
        "### **Menghitung Rata-rata**"
      ],
      "metadata": {
        "id": "Yjsomv7SeAY8"
      }
    },
    {
      "cell_type": "code",
      "source": [
        "print(\"\\nMenghitung rata-rata dengan df.mean():\")\n",
        "print(df.mean(numeric_only=True))"
      ],
      "metadata": {
        "colab": {
          "base_uri": "https://localhost:8080/"
        },
        "id": "g_m-hczCf7e6",
        "outputId": "466aec8b-6097-4673-d587-2a438fb1fb1e"
      },
      "execution_count": null,
      "outputs": [
        {
          "output_type": "stream",
          "name": "stdout",
          "text": [
            "\n",
            "Menghitung rata-rata dengan df.mean():\n",
            "H        25.314845\n",
            "S         0.459494\n",
            "V         0.779543\n",
            "L        65.920000\n",
            "group     3.472000\n",
            "dtype: float64\n"
          ]
        }
      ]
    },
    {
      "cell_type": "markdown",
      "source": [
        "Rata-rata nilai dari kolom numerik dalam dataset. Rata-rata tersebut memberikan gambaran umum tentang kecenderungan data, seperti jumlah rata-rata warna atau tingkat kecerahan produk makeup, yang membantu memahami distribusi data secara keseluruhan."
      ],
      "metadata": {
        "id": "jnXkIerf206t"
      }
    },
    {
      "cell_type": "markdown",
      "source": [
        "### **Menghitung Median**"
      ],
      "metadata": {
        "id": "dkV8FsBoeGu0"
      }
    },
    {
      "cell_type": "code",
      "source": [
        "print(\"\\nMenghitung median dengan df.median():\")\n",
        "print(df.median(numeric_only=True))"
      ],
      "metadata": {
        "colab": {
          "base_uri": "https://localhost:8080/"
        },
        "id": "ONGLPhl3fgOj",
        "outputId": "989fb040-4c8c-499f-a227-6393e87fb407"
      },
      "execution_count": 5,
      "outputs": [
        {
          "output_type": "stream",
          "name": "stdout",
          "text": [
            "\n",
            "Menghitung median dengan df.median():\n",
            "H        26.00\n",
            "S         0.44\n",
            "V         0.84\n",
            "L        71.00\n",
            "group     3.00\n",
            "dtype: float64\n"
          ]
        }
      ]
    },
    {
      "cell_type": "markdown",
      "source": [
        "Median dari kolom numerik dalam dataset, yang menunjukkan nilai tengah dari data. Median membantu memahami persebaran data dan memberikan gambaran yang lebih akurat terhadap kecenderungan data tanpa terpengaruh oleh nilai ekstrem."
      ],
      "metadata": {
        "id": "PP9B_vaU2_pE"
      }
    },
    {
      "cell_type": "markdown",
      "source": [
        "### **Menghitung Standar Deviasi**"
      ],
      "metadata": {
        "id": "cueIDjPBfhuT"
      }
    },
    {
      "cell_type": "code",
      "source": [
        "print(\"\\nMenghitung standar deviasi dengan df.std():\")\n",
        "print(df.std(numeric_only=True))"
      ],
      "metadata": {
        "colab": {
          "base_uri": "https://localhost:8080/"
        },
        "id": "YUpvoupJfpPT",
        "outputId": "e6b0970b-eb9f-4990-f62b-39215701d594"
      },
      "execution_count": 7,
      "outputs": [
        {
          "output_type": "stream",
          "name": "stdout",
          "text": [
            "\n",
            "Menghitung standar deviasi dengan df.std():\n",
            "H         5.327852\n",
            "S         0.154089\n",
            "V         0.173955\n",
            "L        17.512267\n",
            "group     1.976529\n",
            "dtype: float64\n"
          ]
        }
      ]
    },
    {
      "cell_type": "markdown",
      "source": [
        "Standar deviasi dari kolom numerik dalam dataset, yang menggambarkan seberapa besar variasi atau penyebaran data dari nilai rata-rata. Semakin besar nilai standar deviasi, semakin beragam data, sedangkan nilai yang kecil menunjukkan data cenderung mendekati rata-rata.\n",
        "\n",
        "\n",
        "\n",
        "\n",
        "\n",
        "\n",
        "\n"
      ],
      "metadata": {
        "id": "O9alN3aG3IGs"
      }
    },
    {
      "cell_type": "markdown",
      "source": [
        "### **Menghitung Korelasi Antar Kolom Numerik**"
      ],
      "metadata": {
        "id": "6dsQVMI5eJA8"
      }
    },
    {
      "cell_type": "code",
      "source": [
        "print(\"\\nMenghitung korelasi antar kolom numerik dengan df.corr():\")\n",
        "print(df.corr(numeric_only=True))"
      ],
      "metadata": {
        "colab": {
          "base_uri": "https://localhost:8080/"
        },
        "id": "Y3c2ZUiofyDT",
        "outputId": "8570df94-df5d-42de-df54-c176bc497e01"
      },
      "execution_count": 6,
      "outputs": [
        {
          "output_type": "stream",
          "name": "stdout",
          "text": [
            "\n",
            "Menghitung korelasi antar kolom numerik dengan df.corr():\n",
            "              H         S         V         L     group\n",
            "H      1.000000 -0.166436  0.409831  0.451416  0.118561\n",
            "S     -0.166436  1.000000 -0.707797 -0.810619 -0.048267\n",
            "V      0.409831 -0.707797  1.000000  0.980690  0.165535\n",
            "L      0.451416 -0.810619  0.980690  1.000000  0.132859\n",
            "group  0.118561 -0.048267  0.165535  0.132859  1.000000\n"
          ]
        }
      ]
    },
    {
      "cell_type": "markdown",
      "source": [
        "Korelasi antar kolom numerik dalam dataset, yang menunjukkan hubungan linier antara dua variabel. Nilai korelasi berkisar antara -1 hingga 1, di mana nilai mendekati 1 menunjukkan hubungan positif kuat, mendekati -1 menunjukkan hubungan negatif kuat, dan mendekati 0 menunjukkan hubungan yang lemah atau tidak ada korelasi."
      ],
      "metadata": {
        "id": "HNXexyqA3fL8"
      }
    },
    {
      "cell_type": "markdown",
      "source": [
        "### **Visualisasi Jumlah Data Per Brand**"
      ],
      "metadata": {
        "id": "6fgjI557gGmC"
      }
    },
    {
      "cell_type": "code",
      "source": [
        "import matplotlib.pyplot as plt"
      ],
      "metadata": {
        "id": "yC8fOFSxgFQb"
      },
      "execution_count": 14,
      "outputs": []
    },
    {
      "cell_type": "code",
      "source": [
        "plt.figure(figsize=(12, 6))\n",
        "brand_counts = df['brand'].value_counts()\n",
        "plt.bar(brand_counts.index, brand_counts.values, color='skyblue')\n",
        "plt.title('Jumlah Produk per Brand')\n",
        "plt.xlabel('Brand')\n",
        "plt.ylabel('Jumlah Produk')\n",
        "plt.xticks(rotation=45)\n",
        "plt.show()\n"
      ],
      "metadata": {
        "colab": {
          "base_uri": "https://localhost:8080/",
          "height": 646
        },
        "id": "wYWIlD9Egpw6",
        "outputId": "b01d0082-8b27-4864-b3b7-9a0b93eae164"
      },
      "execution_count": 15,
      "outputs": [
        {
          "output_type": "display_data",
          "data": {
            "text/plain": [
              "<Figure size 1200x600 with 1 Axes>"
            ],
            "image/png": "[encoded data removed]"
          },
          "metadata": {}
        }
      ]
    },
    {
      "cell_type": "markdown",
      "source": [
        "Visualisasi ini menampilkan diagram batang yang menunjukkan jumlah produk untuk setiap brand dalam dataset. Diagram ini membantu memahami distribusi produk berdasarkan brand, di mana brand dengan batang lebih tinggi menunjukkan jumlah produk yang lebih banyak, sedangkan batang lebih pendek menunjukkan brand dengan jumlah produk lebih sedikit."
      ],
      "metadata": {
        "id": "kcB-lNSR3tbL"
      }
    },
    {
      "cell_type": "markdown",
      "source": [
        "### **Visualisasi distribusi hue (H)**"
      ],
      "metadata": {
        "id": "gYwVlNRayvCS"
      }
    },
    {
      "cell_type": "code",
      "source": [
        "plt.figure(figsize=(10, 6))\n",
        "plt.hist(df['H'].dropna(), bins=30, color='skyblue', edgecolor='black')\n",
        "plt.title('Distribusi Hue (H)')\n",
        "plt.xlabel('Hue')\n",
        "plt.ylabel('Jumlah')\n",
        "plt.show()"
      ],
      "metadata": {
        "colab": {
          "base_uri": "https://localhost:8080/",
          "height": 564
        },
        "id": "CwvfO8EsyjYb",
        "outputId": "4f47c0c7-65d1-407c-cabc-5097c5f6f4c7"
      },
      "execution_count": 17,
      "outputs": [
        {
          "output_type": "display_data",
          "data": {
            "text/plain": [
              "<Figure size 1000x600 with 1 Axes>"
            ],
            "image/png": "[encoded data removed]"
          },
          "metadata": {}
        }
      ]
    },
    {
      "cell_type": "markdown",
      "source": [
        "Visualisasi ini berupa histogram yang menunjukkan distribusi nilai Hue (H) dalam dataset. Histogram digunakan untuk menggambarkan sebaran frekuensi data numerik. Grafik ini membantu melihat pola sebaran warna dominan pada produk makeup."
      ],
      "metadata": {
        "id": "-vlioRlw5Gby"
      }
    },
    {
      "cell_type": "markdown",
      "source": [
        "### **Visualisasi hubungan antara hue dan brightness (V)**"
      ],
      "metadata": {
        "id": "lqAKinbfgjsy"
      }
    },
    {
      "cell_type": "code",
      "source": [
        "plt.figure(figsize=(10, 6))\n",
        "plt.scatter(df['H'], df['V'], c='blue', alpha=0.5)\n",
        "plt.title('Hubungan antara Hue dan Brightness')\n",
        "plt.xlabel('Hue')\n",
        "plt.ylabel('Brightness')\n",
        "plt.show()"
      ],
      "metadata": {
        "colab": {
          "base_uri": "https://localhost:8080/",
          "height": 564
        },
        "id": "tmyHp8shzB2Z",
        "outputId": "972c4c13-9484-474b-c483-99756147ab85"
      },
      "execution_count": 19,
      "outputs": [
        {
          "output_type": "display_data",
          "data": {
            "text/plain": [
              "<Figure size 1000x600 with 1 Axes>"
            ],
            "image/png": "[encoded data removed]"
          },
          "metadata": {}
        }
      ]
    },
    {
      "cell_type": "markdown",
      "source": [
        "Visualisasi ini berupa scatter plot yang menunjukkan hubungan antara nilai Hue (H) dan Brightness (V) dalam dataset. Setiap titik merepresentasikan satu produk makeup, di mana posisi titik menunjukkan nilai Hue dan Brightness. Grafik ini membantu melihat pola hubungan antara kedua variabel, seperti apakah terdapat korelasi atau pola tertentu pada distribusi warna produk.\n",
        "\n",
        "\n",
        "\n",
        "\n",
        "\n",
        "\n",
        "\n"
      ],
      "metadata": {
        "id": "Zzqfst-b5xxy"
      }
    }
  ]
}